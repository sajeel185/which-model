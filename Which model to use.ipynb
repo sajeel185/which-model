{
 "cells": [
  {
   "cell_type": "markdown",
   "metadata": {},
   "source": [
    "1. KNN regression or linear regression, because the model works by matching similar data.  So data from similar sprinters in the past who we have in our dataset, will be used and matched with prospective athletes to determine their sprinting speed.\n",
    "\n",
    "2. Ridge Regression or Lasso regression which helps in reducing those features that are not important\n",
    "\n",
    "3. Random forest or lasso would be better.\n",
    "\n",
    "4. naive bayes, because this model works with probabilities.  You can select certain words with high probabilites of it being a spam email, and build your model with these words.\n",
    "\n",
    "5. Ridge or Lasso regression.\n",
    "\n",
    "6. logistic Regression\n",
    "\n",
    "7. Ridge or lasso\n",
    "\n",
    "8. SVM\n",
    "\n",
    "9. Logistic Regression"
   ]
  }
 ],
 "metadata": {
  "kernelspec": {
   "display_name": "Python 3",
   "language": "python",
   "name": "python3"
  },
  "language_info": {
   "codemirror_mode": {
    "name": "ipython",
    "version": 3
   },
   "file_extension": ".py",
   "mimetype": "text/x-python",
   "name": "python",
   "nbconvert_exporter": "python",
   "pygments_lexer": "ipython3",
   "version": "3.7.0"
  }
 },
 "nbformat": 4,
 "nbformat_minor": 2
}
